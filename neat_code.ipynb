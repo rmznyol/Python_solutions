{
 "cells": [
  {
   "cell_type": "markdown",
   "metadata": {},
   "source": [
    "List: Rotate ( ** Interview Question)\n",
    "You are given a list of n integers and a non-negative integer k.\n",
    "\n",
    "Your task is to write a function called rotate that takes the list of integers and an integer k as input and rotates the list to the right by k steps.\n",
    "\n",
    "The function should modify the input list in-place, and you should not return anything.\n",
    "\n",
    "Constraints:\n",
    "\n",
    "Each element of the input list is an integer.\n",
    "\n",
    "The integer k is non-negative.\n",
    "\n",
    "\n",
    "\n",
    "Function signature: def rotate(nums, k):\n",
    "\n",
    "Example:\n",
    "\n",
    "Input: nums = [1, 2, 3, 4, 5, 6, 7], k = 3\n",
    "Function call: rotate(nums, k)\n",
    "Output: nums = [5, 6, 7, 1, 2, 3, 4]\n",
    "\n"
   ]
  },
  {
   "cell_type": "code",
   "execution_count": null,
   "metadata": {},
   "outputs": [],
   "source": [
    "def rotate(nums: list[int], k:int) -> list[int]:\n",
    "    k = k % len(nums)\n",
    "    nums[:] = nums[-k:] + nums[:-k]"
   ]
  },
  {
   "cell_type": "markdown",
   "metadata": {},
   "source": [
    "This code defines a function rotate that takes a list of integers nums and a non-negative integer k as input and rotates the list to the right by k steps. The function modifies the input list in-place.\n",
    "\n",
    "Here's a step-by-step explanation of the code:\n",
    "\n",
    "\n",
    "k = k % len(nums): This line takes the modulus of k with the length of the array. This is done to handle cases where k is greater than or equal to the length of the array. By doing this, we ensure that we only rotate the list by the necessary number of steps, effectively reducing unnecessary rotations.\n",
    "\n",
    "nums[:] = nums[-k:] + nums[:-k]: This line rotates the list in-place by slicing it into two parts and concatenating them in reverse order. The expression nums[-k:] represents the last k elements of the list (the part that will be moved to the beginning of the rotated list), and the expression nums[:-k] represents the first n - k elements of the list (the part that will be moved to the end of the rotated list). By concatenating these two slices, we create a new list that represents the rotated version of the input list. The assignment nums[:] = modifies the input list in-place with the rotated list.\n",
    "\n",
    "\n",
    "\n",
    "The function works by first calculating the effective number of steps to rotate the list (using the modulus operation) and then creating a new list with the elements rearranged in the rotated order. Finally, the function updates the input list in-place with the rotated list."
   ]
  },
  {
   "cell_type": "code",
   "execution_count": null,
   "metadata": {},
   "outputs": [],
   "source": []
  }
 ],
 "metadata": {
  "language_info": {
   "name": "python"
  },
  "orig_nbformat": 4
 },
 "nbformat": 4,
 "nbformat_minor": 2
}
