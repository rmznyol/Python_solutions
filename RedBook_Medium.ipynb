{
 "cells": [
  {
   "cell_type": "markdown",
   "metadata": {},
   "source": [
    "# MEDIUM\n",
    "\n",
    "### 9.7. Google: Given an array of positive integers, a peak element is greater than its neighborhs. Write a function to find the index of any peak elements. For example, [3,5,2,4,1], you should return either 1 or 3 because the values at those indexes, 5 and 4 are both peak elements."
   ]
  },
  {
   "cell_type": "code",
   "execution_count": null,
   "metadata": {},
   "outputs": [],
   "source": [
    "example = [3,5,2,4,1]\n",
    "\n",
    "def is_peak(nums: list[int], index: int , l: int)-> bool:\n",
    "    if l == 0:\n",
    "        return False\n",
    "    if index == 0 and l > 0:\n",
    "        return nums[index] > nums[index + 1]\n",
    "    if index == l-1 :\n",
    "        return nums[index] > nums[index - 1]\n",
    "    return nums[index + 1] < nums[index ] > nums[index  - 1]\n",
    "def peak_index_finder(nums: list[int]) -> list[int]:\n",
    "    l = len(nums)\n",
    "    result = []\n",
    "    for i in range(l):\n",
    "        print(i)\n",
    "        if is_peak(nums,i,l):\n",
    "            result.append(i)\n",
    "    return result\n",
    "\n",
    "peak_index_finder(example)\n"
   ]
  },
  {
   "cell_type": "markdown",
   "metadata": {},
   "source": [
    "### 9.8 AQR: Given two lists X and Y, return Their correlation"
   ]
  },
  {
   "cell_type": "code",
   "execution_count": null,
   "metadata": {},
   "outputs": [],
   "source": [
    "from math import sqrt\n",
    "mean = lambda v: sum(v)/len(v)\n",
    "\n",
    "def cov(v1: list[float], v2: list[float]) -> float:\n",
    "    m1, m2 = mean(v1), mean(v2)\n",
    "    return mean([(i-m1)*(i-m2) for i in v1 for j in v2])\n",
    "\n",
    "def corr(v1: list[float], v2: list[float]) -> float:\n",
    "    return cov(v1,v2)/sqrt(cov(v1,v1)*cov(v2,v2))"
   ]
  },
  {
   "cell_type": "markdown",
   "metadata": {},
   "source": [
    "### 9.9 Amazon: Given a binary tree, write a function to determine the diameter of the tree, which is the longest path between any nodes "
   ]
  },
  {
   "cell_type": "code",
   "execution_count": null,
   "metadata": {},
   "outputs": [],
   "source": [
    "#We solve for one better: diamater of an N-ary Tree:\n",
    "#beats 90% of the solutions, runs in O(n) time complexity and O(1) space complexity \n",
    "\n",
    "from heapq import heappush, heappushpop\n",
    "def diameter(root: 'Node') -> int:\n",
    "    if not root or not root.children:\n",
    "        return 0 \n",
    "    max_diam = [0]\n",
    "    def traverse_depth(curr):\n",
    "        if not curr.children:\n",
    "            return 0\n",
    "        heap = []\n",
    "        for child in curr.children:\n",
    "            if len(heap) < 2:\n",
    "                heappush(heap,traverse_depth(child))\n",
    "            else:\n",
    "                heappushpop(heap,traverse_depth(child))\n",
    "        depth = 1 + heap[-1]\n",
    "        diam = sum([child + 1 for child in heap])\n",
    "        max_diam[0] = diam if diam > max_diam[0] else max_diam[0]\n",
    "        return depth\n",
    "    traverse_depth(root)\n",
    "\n",
    "    return max_diam[0]\n",
    "            \n",
    "            "
   ]
  }
 ],
 "metadata": {
  "language_info": {
   "name": "python"
  },
  "orig_nbformat": 4
 },
 "nbformat": 4,
 "nbformat_minor": 2
}
