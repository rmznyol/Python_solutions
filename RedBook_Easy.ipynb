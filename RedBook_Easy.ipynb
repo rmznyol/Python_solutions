{
 "cells": [
  {
   "cell_type": "markdown",
   "id": "fcbda9169984a816",
   "metadata": {
    "collapsed": false
   },
   "source": [
    "#### 9.2 D.E. Shaw: given an integer array, return the maximum product of any three numbers in the array. For example, for A=[1,3,4,5], you should return 60, while for B=[-2,-4,5,3] you should return 40"
   ]
  },
  {
   "cell_type": "code",
   "execution_count": 25,
   "id": "56db65d9aba12621",
   "metadata": {
    "ExecuteTime": {
     "end_time": "2023-08-17T17:49:09.489773Z",
     "start_time": "2023-08-17T17:49:09.483616Z"
    },
    "collapsed": false
   },
   "outputs": [
    {
     "name": "stdout",
     "output_type": "stream",
     "text": [
      "60\n",
      "40\n",
      "60\n",
      "40\n",
      "60\n",
      "40\n"
     ]
    }
   ],
   "source": [
    "A = [1,3,4,5]\n",
    "B = [-2,-4,5,3]\n",
    "#obvisouly brute force with O(n^3) time complexity would work. \n",
    "def max_of_three(nums: list[int]) -> int:\n",
    "    l = len(nums)\n",
    "    mx = nums[0]**3\n",
    "    for i in range(l):\n",
    "        for j in range(i+1,l):\n",
    "            for k in range(j+1,l):\n",
    "                mx = nums[i]*nums[j]*nums[k] if nums[i]*nums[j]*nums[k] > mx else mx\n",
    "    return mx\n",
    "print(max_of_three(A))\n",
    "print(max_of_three(B))\n",
    "\n",
    "#better way with O(nlog3) complexity is to use heap just find the 3 largest element however we need to consider signs\n",
    "# min heap with 2 smallest and 1 largest\n",
    "# or max heap with 3 either case the time complexity is O(nlog3)= O(n)\n",
    "from heapq import heappush,heapify,heappushpop, nlargest, nsmallest\n",
    "def max_of_three(nums: list[int])->int:\n",
    "    my_min_heap = []\n",
    "    my_max_heap = []\n",
    "    for num in nums:\n",
    "        if len(my_min_heap) < 3:\n",
    "            heappush(my_min_heap,num)\n",
    "            heappush(my_max_heap,-num)\n",
    "        else:\n",
    "            heappushpop(my_min_heap,num)\n",
    "            heappushpop(my_max_heap,-num)\n",
    "    positive_3 = my_min_heap[0] * my_min_heap[1] * my_min_heap[2]\n",
    "    combined = max(my_min_heap[1:]) * my_max_heap[2] * my_max_heap[1]\n",
    "    return max(positive_3, combined)\n",
    "\n",
    "print(max_of_three(A))\n",
    "print(max_of_three(B))\n",
    "\n",
    "## shorter \n",
    "def max_of_three(nums: list[int]) -> int:\n",
    "    my_min_heap = nsmallest(2,nums)\n",
    "    my_max_heap = nlargest(3,nums)\n",
    "    mx1 = my_max_heap[0] * my_max_heap[2] * my_max_heap[1]\n",
    "    mx2 = my_max_heap[0] * my_min_heap[0] * my_min_heap[1]\n",
    "    return max(mx1,mx2) \n",
    "\n",
    "print(max_of_three(A))\n",
    "print(max_of_three(B))"
   ]
  },
  {
   "cell_type": "markdown",
   "id": "3b04739c8b5b817c",
   "metadata": {
    "collapsed": false
   },
   "source": [
    "### 9.3 Facebook: Given a list of coordinates, write a function to find the k closest points (measured by) euclidean distance to the origin. For example, if k= 3, and the points are: [[2,-1],[3,2],[4,1],[-1,-1],[-2,2]], then return [[-1,-1], [2,-1], [-2,2]]"
   ]
  },
  {
   "cell_type": "code",
   "execution_count": 38,
   "id": "b156c10c0b87e170",
   "metadata": {
    "ExecuteTime": {
     "end_time": "2023-08-17T18:07:02.773959Z",
     "start_time": "2023-08-17T18:07:02.768815Z"
    },
    "collapsed": false
   },
   "outputs": [
    {
     "data": {
      "text/plain": [
       "[[-2, 2], [2, -1], [-1, -1]]"
      ]
     },
     "execution_count": 38,
     "metadata": {},
     "output_type": "execute_result"
    }
   ],
   "source": [
    "# We calculate the Euclidean distance and add it to heap of size k (or until size k) each push takes O(log k) and we iterate through the list once so the total time complexity is O(n logk).\n",
    "\n",
    "from heapq import heappush, heappushpop\n",
    "\n",
    "euclidean_sq_dist = lambda x: sum([coord**2 for coord in x]) \n",
    "\n",
    "def k_closest_points(points: list[list[int]],k:int) -> list[list[int]] :\n",
    "    my_max_heap = []\n",
    "    for point in points:\n",
    "        if len(my_max_heap) < k:\n",
    "            heappush(my_max_heap,(-euclidean_sq_dist(point),point))\n",
    "        else:\n",
    "            heappushpop(my_max_heap,(-euclidean_sq_dist(point),point))\n",
    "    return [point for d,point in my_max_heap]\n",
    "\n",
    "k_closest_points([[2,-1],[3,2],[4,1],[-1,-1],[-2,2]],3)\n",
    "        "
   ]
  },
  {
   "cell_type": "markdown",
   "id": "18e8200b475444ae",
   "metadata": {
    "collapsed": false
   },
   "source": [
    "#### 9.4 Say you have n-by-n matrix of elements that are sorted in ascending order both in the columns and rows ofthe matrix. Return the k-th smallest element of the matrix for example.consider the matrix below:\n",
    "$$\n",
    "\\begin{bmatrix}\n",
    "1 & 4 & 7\\\\\n",
    "3 & 5 & 9 \\\\\n",
    "6 & 8 & 11 \\\\\n",
    "\\end{bmatrix}\n",
    "$$\n",
    "if k = 4, then return 5\n",
    " "
   ]
  },
  {
   "cell_type": "code",
   "execution_count": 41,
   "id": "d043bec36b7b87db",
   "metadata": {
    "collapsed": false
   },
   "outputs": [
    {
     "data": {
      "text/plain": [
       "2"
      ]
     },
     "execution_count": 41,
     "metadata": {},
     "output_type": "execute_result"
    }
   ],
   "source": [
    "example = [[1,4,7],[3,5,9],[6,8,11]]\n",
    "from heapq import heappush, heappushpop\n",
    "\n",
    "def k_th_smallest_in_M(matrix: list[list[int]], k: int) -> int:\n",
    "    heap = []\n",
    "    n = len(matrix)\n",
    "    for i in range(min(k,n)):\n",
    "        for j in range(min(k,n)):\n",
    "            if len(heap) < k:\n",
    "                heappush(heap,-matrix[i][j])\n",
    "            else:\n",
    "                heappushpop(heap,-matrix[i][j])\n",
    "    return -heap[0]\n",
    "\n",
    "k_th_smallest_in_M([[1,2],[3,3]],2)\n",
    "\n",
    "    "
   ]
  },
  {
   "cell_type": "markdown",
   "id": "4c987244",
   "metadata": {},
   "source": [
    "### 9.5) Akuma capital: given an integer array, find the sum of the largest contigous subarray within the array. For example, if the input is [-1,-3, 5, -4, 3, -6, 9, 2], then return 11( because of [9,2]). Note that if all the elements are negatie, you should return 0"
   ]
  },
  {
   "cell_type": "markdown",
   "id": "b7ac2326",
   "metadata": {},
   "source": []
  },
  {
   "cell_type": "code",
   "execution_count": 15,
   "id": "9e272778",
   "metadata": {},
   "outputs": [
    {
     "data": {
      "text/plain": [
       "11"
      ]
     },
     "execution_count": 15,
     "metadata": {},
     "output_type": "execute_result"
    }
   ],
   "source": [
    "# first idea is to concatinate as there is no need to distinguis [9,2] and [11] for example\n",
    "example = [-1,-3, 5, -4, 3, -6, 9, 2]\n",
    "def largest_contigous_subarray(nums: list[int]) -> list[int]:\n",
    "    max = 0\n",
    "    sum_until = 0\n",
    "    for num in nums:\n",
    "        if sum_until + num <= 0:\n",
    "            sum_until = 0\n",
    "        else:\n",
    "            sum_until += num\n",
    "        if sum_until > max:\n",
    "            max = sum_until\n",
    "    return max\n",
    "\n",
    "largest_contigous_subarray(example)\n"
   ]
  },
  {
   "cell_type": "markdown",
   "id": "75a2fe00",
   "metadata": {},
   "source": [
    "### 9.6 Facebook: Given a binary tree, write a function to determine whether the three is a mirror image of itself. Two trees are a mirror image of each other if their root values are the same and the left subtree is a mirror image of the right subtree."
   ]
  },
  {
   "cell_type": "code",
   "execution_count": 21,
   "id": "2a3c2bd2",
   "metadata": {},
   "outputs": [],
   "source": [
    "class TreeNode:\n",
    "    def __init__(self, val=0, left=None, right=None):\n",
    "        self.val = val\n",
    "        self.left = left\n",
    "        self.right = right\n",
    "\n",
    "from collections import deque\n",
    "def isSymmetric( root) -> bool:\n",
    "    if not root or (not root.left and not root.right):\n",
    "        return True\n",
    "    if not root.left and root.right:\n",
    "        return False\n",
    "    if root.left and not root.right:\n",
    "        return False\n",
    "    if root.left.val != root.right.val:\n",
    "        return False\n",
    "    leftq = deque([root.left])\n",
    "    rightq = deque([root.right])\n",
    "    while len(leftq) > 0:\n",
    "        temp_left = leftq.popleft()\n",
    "        temp_right = rightq.popleft()\n",
    "        if temp_left.left and temp_right.right:\n",
    "            if temp_left.left.val != temp_right.right.val:\n",
    "                return False\n",
    "            leftq.append(temp_left.left)\n",
    "            rightq.append(temp_right.right)\n",
    "        elif (temp_left.left and not temp_right.right) or (not temp_left.left and temp_right.right):\n",
    "            return False\n",
    "        if temp_left.right and temp_right.left:\n",
    "            if temp_left.right.val != temp_right.left.val:\n",
    "                return False\n",
    "            leftq.append(temp_left.right)\n",
    "            rightq.append(temp_right.left)\n",
    "        elif (temp_left.right and not temp_right.left) or (not temp_left.right and temp_right.left):\n",
    "            return False\n",
    "    return True\n",
    "            "
   ]
  }
 ],
 "metadata": {
  "kernelspec": {
   "display_name": "Python 3",
   "language": "python",
   "name": "python3"
  },
  "language_info": {
   "codemirror_mode": {
    "name": "ipython",
    "version": 3
   },
   "file_extension": ".py",
   "mimetype": "text/x-python",
   "name": "python",
   "nbconvert_exporter": "python",
   "pygments_lexer": "ipython3",
   "version": "3.11.0"
  }
 },
 "nbformat": 4,
 "nbformat_minor": 5
}
