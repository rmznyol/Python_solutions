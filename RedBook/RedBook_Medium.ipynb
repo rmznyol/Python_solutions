{
 "cells": [
  {
   "cell_type": "markdown",
   "metadata": {},
   "source": [
    "# MEDIUM\n",
    "\n",
    "### 9.7. Google: Given an array of positive integers, a peak element is greater than its neighborhs. Write a function to find the index of any peak elements. For example, [3,5,2,4,1], you should return either 1 or 3 because the values at those indexes, 5 and 4 are both peak elements."
   ]
  },
  {
   "cell_type": "code",
   "execution_count": null,
   "metadata": {},
   "outputs": [],
   "source": [
    "example = [3,5,2,4,1]\n",
    "\n",
    "def is_peak(nums: list[int], index: int , l: int)-> bool:\n",
    "    if l == 0:\n",
    "        return False\n",
    "    if index == 0 and l > 0:\n",
    "        return nums[index] > nums[index + 1]\n",
    "    if index == l-1 :\n",
    "        return nums[index] > nums[index - 1]\n",
    "    return nums[index + 1] < nums[index ] > nums[index  - 1]\n",
    "def peak_index_finder(nums: list[int]) -> list[int]:\n",
    "    l = len(nums)\n",
    "    result = []\n",
    "    for i in range(l):\n",
    "        print(i)\n",
    "        if is_peak(nums,i,l):\n",
    "            result.append(i)\n",
    "    return result\n",
    "\n",
    "peak_index_finder(example)\n"
   ]
  },
  {
   "cell_type": "markdown",
   "metadata": {},
   "source": [
    "### 9.8 AQR: Given two lists X and Y, return Their correlation"
   ]
  },
  {
   "cell_type": "code",
   "execution_count": null,
   "metadata": {},
   "outputs": [],
   "source": [
    "from math import sqrt\n",
    "mean = lambda v: sum(v)/len(v)\n",
    "\n",
    "def cov(v1: list[float], v2: list[float]) -> float:\n",
    "    m1, m2 = mean(v1), mean(v2)\n",
    "    return mean([(i-m1)*(i-m2) for i in v1 for j in v2])\n",
    "\n",
    "def corr(v1: list[float], v2: list[float]) -> float:\n",
    "    return cov(v1,v2)/sqrt(cov(v1,v1)*cov(v2,v2))"
   ]
  },
  {
   "cell_type": "markdown",
   "metadata": {},
   "source": [
    "### 9.9 Amazon: Given a binary tree, write a function to determine the diameter of the tree, which is the longest path between any nodes "
   ]
  },
  {
   "cell_type": "code",
   "execution_count": null,
   "metadata": {},
   "outputs": [],
   "source": [
    "#We solve for one better: diamater of an N-ary Tree:\n",
    "#beats 90% of the solutions, runs in O(n) time complexity and O(1) space complexity \n",
    "\n",
    "from heapq import heappush, heappushpop\n",
    "def diameter(root: 'Node') -> int:\n",
    "    if not root or not root.children:\n",
    "        return 0 \n",
    "    max_diam = [0]\n",
    "    def traverse_depth(curr):\n",
    "        if not curr.children:\n",
    "            return 0\n",
    "        heap = []\n",
    "        for child in curr.children:\n",
    "            if len(heap) < 2:\n",
    "                heappush(heap,traverse_depth(child))\n",
    "            else:\n",
    "                heappushpop(heap,traverse_depth(child))\n",
    "        depth = 1 + heap[-1]\n",
    "        diam = sum([child + 1 for child in heap])\n",
    "        max_diam[0] = diam if diam > max_diam[0] else max_diam[0]\n",
    "        return depth\n",
    "    traverse_depth(root)\n",
    "\n",
    "    return max_diam[0]\n"
   ]
  },
  {
   "cell_type": "markdown",
   "metadata": {},
   "source": [
    "### 9.10 D.E. Shaw:: Given a target number, generate a random sample of n integers that sum to that target that also are within $\\sigma$  standard deviations of the mean "
   ]
  },
  {
   "cell_type": "code",
   "execution_count": null,
   "metadata": {},
   "outputs": [],
   "source": [
    "import numpy as np\n",
    "\n",
    "def generate_n(n:int, target: float, s: float) -> list[float]:\n",
    "    X = np.random.rand(n)\n",
    "    Y = s * X/np.sqrt(np.var(X)) \n",
    "    Y = Y  + (target/n - Y.mean())\n",
    "    return Y\n",
    "n = 5\n",
    "target = 17\n",
    "s = 3\n",
    "generate_n(5,17,3)\n"
   ]
  },
  {
   "cell_type": "markdown",
   "metadata": {},
   "source": [
    "### 9.12. LinkedIn: Given two strings A and B, write a function to return a list of all the start indices within A where the substring of A is an anagram of B. For example, if A = 'abcdcbac' and B = 'abc', then you want to return [0,4,5] since those are the string indices of substring of A that are anagrams of B. "
   ]
  },
  {
   "cell_type": "code",
   "execution_count": null,
   "metadata": {},
   "outputs": [],
   "source": [
    "from collections import Counter\n",
    "def anagram_indices(A: str, B: str) -> list[int]:\n",
    "    B_count = Counter(B)\n",
    "    l = len(B)\n",
    "    n = len(A)\n",
    "    result = []\n",
    "    for i in range(n - l  + 1):\n",
    "        if Counter(A[i:i+l]) == B_count:\n",
    "            result.append(i)\n",
    "    return result\n",
    "\n",
    "A = 'abcdcbac'\n",
    "B = 'abc'\n",
    "\n",
    "anagram_indices(A,B)"
   ]
  },
  {
   "cell_type": "markdown",
   "metadata": {},
   "source": [
    "### 9.13. Yelp: You are given an array of intervals, where each interval is represented by a start time and an end time, such as [1,3]. Determine the smallest number of interval to remove from the list, such that the rest of the intervals do not overlap. Intervals can \"touch,\" such as [1,3] and [3,5], but are not allowed to overlap, such as [1,3] and [2,5]. For example, if the input interval list given is: [[1,3],[3,5],[2,4],[6,8]], then return 1, since the interval [2,4] should be removed."
   ]
  },
  {
   "cell_type": "markdown",
   "metadata": {},
   "source": [
    "### 9.14. Goldman Sachs: Given an array of strings, return a list of lists where each list contains the strings that are anagrams of one another.\n",
    "For Example, if the input is ['abc','abd', 'cab','bad','bca','acd'] then return: [['abc','cab','bca'],['abd','bad'],['acd']]"
   ]
  },
  {
   "cell_type": "code",
   "execution_count": null,
   "metadata": {},
   "outputs": [],
   "source": [
    "from collections import defaultdict\n",
    "def group_anagrams(list_of_strings: list[str]) -> list[list[str]]:\n",
    "    groups = defaultdict(list)\n",
    "    for string in list_of_strings:\n",
    "        groups[''.join(sorted(string))].append(string)\n",
    "    return list(groups.values())\n",
    "\n",
    "group_anagrams(['abc','abd', 'cab','bad','bca','acd'])"
   ]
  },
  {
   "cell_type": "markdown",
   "metadata": {},
   "source": [
    "###"
   ]
  },
  {
   "cell_type": "markdown",
   "metadata": {},
   "source": [
    "### 9:15. Two Sigma: Say that there are n people. If person A is friends with person B, and person B is friends with person C, then person A is considered an indirect friend of C.\n",
    "\n",
    "### Define a friend group to be any group that is either directly or indrectly friends. Given n-by-n adjacency matrix N, where N[i][j] is one if person i and person j are friends, and zero otherwise, write a function to determine how many friend groups exist."
   ]
  },
  {
   "cell_type": "code",
   "execution_count": null,
   "metadata": {},
   "outputs": [],
   "source": [
    "# Essentially same question as #547. Number of Provinces from leetcode\n",
    "class Solution:\n",
    "    def findCircleNum(self, isConnected: List[List[int]]) -> int:\n",
    "        n = len(isConnected)\n",
    "        grouped = [False for _ in range(n)]\n",
    "        province_count = 0\n",
    "        # finds all the cities in a province starting from a city in the province.\n",
    "        # marks every city as grouped \n",
    "        def province_finder(i):\n",
    "            province = set()\n",
    "            queue = deque([i])\n",
    "            while queue:\n",
    "                curr = queue.popleft()\n",
    "                province.add(curr)\n",
    "                grouped[curr] = True\n",
    "                for connection in range(n):\n",
    "                    if isConnected[curr][connection] and not grouped[connection]:\n",
    "                        queue.append(connection)\n",
    "            return province\n",
    "        # take a city, find all connection ones. Mark all those as 'grouped' \n",
    "        # the next not grouped one will be in a new province, thus increase the count by 1\n",
    "        for i in range(n):\n",
    "            if not grouped[i]:\n",
    "                province_finder(i)\n",
    "                province_count += 1\n",
    "        return province_count\n",
    "    "
   ]
  },
  {
   "cell_type": "markdown",
   "metadata": {},
   "source": [
    "### 9.16. Workday: Given a linked list, return the head of the same linked list but with k-th node from the end of a linked list removed. For example, given the linked list $3\\rightarrow 2\\rightarrow 5 \\rightarrow 1 \\rightarrow 4$ and k=3, remove the 5 node and, thus, return the linked list $3 \\rightarrow 2 \\rightarrow 1 \\rightarrow 4$."
   ]
  },
  {
   "cell_type": "code",
   "execution_count": null,
   "metadata": {},
   "outputs": [],
   "source": [
    "# this is problem #19 from Leetcode, can solve it using two pointers, one following the leading pointer by n behind\n",
    "# and remove it afterwads. \n",
    "# There are edge cases to take care of obviously\n",
    "# the following code beats 94% of the solutions\n",
    "class Solution:\n",
    "    def removeNthFromEnd(self, head: Optional[ListNode], n: int) -> Optional[ListNode]:\n",
    "        if not head or not head.next:\n",
    "            return None\n",
    "        i = 0\n",
    "        forward = head\n",
    "        back = None\n",
    "        while forward:\n",
    "            print(forward.val,i)\n",
    "            if i < n:\n",
    "                i += 1\n",
    "            else:\n",
    "                back = back.next if back else head\n",
    "                print(forward.val, back.val)\n",
    "            forward = forward.next\n",
    "        if n == i:\n",
    "            if back:\n",
    "                back.next = back.next.next\n",
    "            else:\n",
    "                head = head.next\n",
    "    \n",
    "        return head "
   ]
  },
  {
   "cell_type": "markdown",
   "metadata": {},
   "source": [
    "### 9.17. Goldman Sachs: Estimate $\\pi$ using a Monte Carlo method. Hint: Think about throwing darts on a square and seeing where they land within a circle"
   ]
  },
  {
   "cell_type": "markdown",
   "metadata": {},
   "source": [
    "# Given a disk and area "
   ]
  },
  {
   "cell_type": "markdown",
   "metadata": {},
   "source": [
    "### 9.18. Palantir: Given a string with lowercase letters and left and right parentheses, remove the minimum number of parentheses so the string is valid (every left paranthesis is correctly matched by a corresponding right parenthesis). For example, if string is `')a(b((cd)e(f)g)'` then return `'ab((cd)e(f)g)'`"
   ]
  },
  {
   "cell_type": "code",
   "execution_count": null,
   "metadata": {},
   "outputs": [],
   "source": [
    "def remove_parenthesis(s: str) -> str:\n",
    "    stack = []\n",
    "    for i,char in enumerate(s):\n",
    "        if char == ')':\n",
    "            if len(stack) and stack[-1][0] == '(':\n",
    "                stack.pop()\n",
    "            else:\n",
    "                stack.append((char,i))\n",
    "        elif char == '(':\n",
    "            stack.append((char,i))\n",
    "    prev = None\n",
    "    result = ''\n",
    "    for i in stack:\n",
    "        result += s[prev: i[1]]\n",
    "        prev = i[1] + 1\n",
    "    result += s[prev:]\n",
    "    return result\n",
    "\n",
    "example = ')a(b((cd)e(f)g)'\n",
    "remove_parenthesis(example) == 'ab((cd)e(f)g)'"
   ]
  },
  {
   "cell_type": "markdown",
   "metadata": {},
   "source": [
    "### 9.19. Citadel: Given a list of one or more distinct integers, write a function to generate all permutations of those integers. For example, giventhe input `[2,3,4]`, return the following 6 permutations: `[[2,3,4],[2,4,3],[3,2,4],[3,4,2],[4,2,3],[4,3,2]]` "
   ]
  },
  {
   "cell_type": "code",
   "execution_count": null,
   "metadata": {},
   "outputs": [],
   "source": [
    "#46. Permutations from leetcode\n",
    "# Beats %99 of the solutions\n",
    "def permute(nums: list[int]) -> list[list[int]]:\n",
    "    if len(nums) <= 1:\n",
    "        return [nums]\n",
    "    result = []\n",
    "    subsets = permute(nums[:-1])\n",
    "    l = len(subsets[0])\n",
    "    for subset in subsets:\n",
    "        for i in range(l+1):\n",
    "            result.append(subset[:i] + [nums[-1]] + subset[i:])\n",
    "    return result \n",
    "        \n",
    "recursive([2,3,4])"
   ]
  },
  {
   "cell_type": "markdown",
   "metadata": {},
   "source": [
    "### 9.20. Two Sigma: Given a list of several categories (for example, the strings A,B,C and D), sample from the list of categories according to a particular relative weighting scheme. For example, say we give A a relative weight of 5, B a weight of 10, C a weight of 15, and D a weight of 20. How do we cunstruct this sampling? How do you extend the solution to an arbitrarily large nubmer of k categories?"
   ]
  },
  {
   "cell_type": "code",
   "execution_count": null,
   "metadata": {},
   "outputs": [],
   "source": [
    "# I assume they meant integer weights here, otherwise we would have to solve scaling too.\n",
    "\n",
    "def sample(categories: list[tuple[str,int]]) -> list[str]:\n",
    "    "
   ]
  },
  {
   "cell_type": "markdown",
   "metadata": {},
   "source": [
    "### 9.21. Amazon: Given two arrays with integers, return the maximum length of a common subarray within both arrays. For example, if the two arrays are `[1,3,5,6,7]` and `[2,4,3,5,6]` then return 3, since the length of the maximum common subarray, `[3,5,6]`, is 3."
   ]
  },
  {
   "cell_type": "code",
   "execution_count": null,
   "metadata": {},
   "outputs": [],
   "source": [
    "# Leetcode problem #718 \n",
    "class Solution:\n",
    "    def findLength(self, nums1: List[int], nums2: List[int]) -> int:\n",
    "        n = len(nums1)\n",
    "        m = len(nums2)\n",
    "        dp = [[0 for _ in nums2] for _ in nums1]\n",
    "        mx = 0\n",
    "        for i in range(n):\n",
    "            dp[i][0] = 1 if nums1[i] == nums2[0] else 0\n",
    "            mx = 1 if dp[i][0] > mx else mx\n",
    "        for j in range(m):\n",
    "            dp[0][j] = 1 if nums1[0] == nums2[j] else 0\n",
    "            mx = 1 if dp[0][j] > mx else mx\n",
    "        for i in range(1,n):\n",
    "            for j in range(1,m):\n",
    "                if nums1[i] == nums2[j]:\n",
    "                    dp[i][j] = dp[i-1][j-1] + 1\n",
    "                mx = dp[i][j] if dp[i][j] > mx else mx\n",
    "        return mx\n",
    "                           "
   ]
  },
  {
   "cell_type": "markdown",
   "metadata": {},
   "source": [
    "### 9.22. Uber: Given a list of positive integers. return the maximum increasing subsequence sum. In other words, return the sum of the largest increasing subsequence within the input array. For example, if the input is [3,2,5,7,6], return 15 because it's the sum of 3,5,7. If the input is [5,4,3,2,1], return 5 (since no subsequence is increasing)."
   ]
  },
  {
   "cell_type": "code",
   "execution_count": null,
   "metadata": {},
   "outputs": [],
   "source": []
  },
  {
   "cell_type": "markdown",
   "metadata": {},
   "source": [
    "### 9.23. Palantir: Given a positive integer n, find the smallest number of perfect squares that sum up to n. For Example, for n = 7, you sohuld return 4, since 7 = 4 + 1 + 1 + 1. For n =13, you should return 2, since 13 = 9 + 4."
   ]
  },
  {
   "cell_type": "code",
   "execution_count": null,
   "metadata": {},
   "outputs": [],
   "source": [
    "# Leetcode problem #279\n",
    "from math import sqrt\n",
    "class Solution:\n",
    "    def numSquares(self, n: int, lookup = {1:1}) -> int:\n",
    "        if n in lookup:\n",
    "            return lookup[n]\n",
    "        sqr = sqrt(n)\n",
    "        if sqr == int(sqr):\n",
    "            lookup[n] = 1\n",
    "            return 1\n",
    "        lookup[n] = min([self.numSquares(i) + self.numSquares(n - i) for i in range(1,n//2+1)])\n",
    "        return lookup[n]"
   ]
  },
  {
   "cell_type": "code",
   "execution_count": 9,
   "metadata": {},
   "outputs": [
    {
     "name": "stdout",
     "output_type": "stream",
     "text": [
      "4627447232 4627454464\n"
     ]
    }
   ],
   "source": [
    "a = [1]\n",
    "b = a + [2]\n",
    "print(id(a),id(b))"
   ]
  },
  {
   "cell_type": "code",
   "execution_count": null,
   "metadata": {},
   "outputs": [],
   "source": []
  }
 ],
 "metadata": {
  "kernelspec": {
   "display_name": "ryol_general",
   "language": "python",
   "name": "python3"
  },
  "language_info": {
   "codemirror_mode": {
    "name": "ipython",
    "version": 3
   },
   "file_extension": ".py",
   "mimetype": "text/x-python",
   "name": "python",
   "nbconvert_exporter": "python",
   "pygments_lexer": "ipython3",
   "version": "3.11.0"
  },
  "orig_nbformat": 4
 },
 "nbformat": 4,
 "nbformat_minor": 2
}
