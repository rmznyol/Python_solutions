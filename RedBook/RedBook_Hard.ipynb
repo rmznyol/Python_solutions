{
 "cells": [
  {
   "cell_type": "markdown",
   "metadata": {},
   "source": [
    "# HARD"
   ]
  },
  {
   "cell_type": "markdown",
   "metadata": {},
   "source": [
    "### 9.28. Citadel: Given a continuous stream of integers, write a class with functions to add new integers to stream, and a function to calculate the median at any time"
   ]
  },
  {
   "cell_type": "code",
   "execution_count": null,
   "metadata": {
    "vscode": {
     "languageId": "plaintext"
    }
   },
   "outputs": [],
   "source": [
    "from heapq import heappush, heappop, heappushpop\n",
    "class MedianFinder:\n",
    "\n",
    "    def __init__(self):\n",
    "        self.left_heap = []\n",
    "        self.right_heap = []\n",
    "\n",
    "    def addNum(self, num: int) -> None:\n",
    "        if not self.left_heap:\n",
    "            self.left_heap.append(-num)\n",
    "        # is necessary ? \n",
    "        # elif not self.right_heap:\n",
    "        #     if num >= self.left_heap[0]:\n",
    "        #         self.right_heap.append(num)\n",
    "        #     else:\n",
    "        #         temp = heappushpop(self.left_heap,num)\n",
    "        #         heappush(self.right_heap,temp)\n",
    "        elif num <= -self.left_heap[0]:\n",
    "            if len(self.left_heap) <= len(self.right_heap):\n",
    "                heappush(self.left_heap,-num)\n",
    "            else:\n",
    "                temp = -heappushpop(self.left_heap,-num)\n",
    "                heappush(self.right_heap,temp)\n",
    "        else:\n",
    "            if len(self.left_heap) > len(self.right_heap):\n",
    "                heappush(self.right_heap,num)\n",
    "            else:\n",
    "                temp = heappushpop(self.right_heap,num)\n",
    "                heappush(self.left_heap,-temp)\n",
    "        # print(self.left_heap)\n",
    "        # print(self.right_heap)\n",
    "        \n",
    "\n",
    "    def findMedian(self) -> float:\n",
    "        if len(self.left_heap) > len(self.right_heap):\n",
    "            return -self.left_heap[0]\n",
    "        else:\n",
    "            return (-self.left_heap[0] + self.right_heap[0]) / 2\n",
    "        \n",
    "\n",
    "\n",
    "# Your MedianFinder object will be instantiated and called as such:\n",
    "# obj = MedianFinder()\n",
    "# obj.addNum(num)\n",
    "# param_2 = obj.findMedian()"
   ]
  }
 ],
 "metadata": {
  "language_info": {
   "name": "python"
  },
  "orig_nbformat": 4
 },
 "nbformat": 4,
 "nbformat_minor": 2
}
